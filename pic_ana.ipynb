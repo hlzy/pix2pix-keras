{
 "cells": [
  {
   "cell_type": "code",
   "execution_count": 1,
   "metadata": {},
   "outputs": [],
   "source": [
    "import cv2"
   ]
  },
  {
   "cell_type": "code",
   "execution_count": 37,
   "metadata": {},
   "outputs": [],
   "source": [
    "pic = \"pic_tmp/result_1_99.jpg\"\n",
    "m_pic = cv2.imread(pic)"
   ]
  },
  {
   "cell_type": "code",
   "execution_count": 38,
   "metadata": {},
   "outputs": [],
   "source": [
    "a = cv2.resize(m_pic,(16,48))"
   ]
  },
  {
   "cell_type": "code",
   "execution_count": 39,
   "metadata": {},
   "outputs": [
    {
     "data": {
      "text/plain": [
       "(48, 16, 3)"
      ]
     },
     "execution_count": 39,
     "metadata": {},
     "output_type": "execute_result"
    }
   ],
   "source": [
    "a.shape"
   ]
  },
  {
   "cell_type": "code",
   "execution_count": 68,
   "metadata": {},
   "outputs": [
    {
     "name": "stdout",
     "output_type": "stream",
     "text": [
      "229\t253\t255\t255\t255\t255\t255\t255\t255\t255\t255\t255\t253\t249\t247\t218\n",
      "255\t255\t255\t255\t255\t255\t255\t255\t255\t255\t254\t253\t253\t254\t247\t213\n",
      "255\t255\t255\t255\t255\t255\t255\t255\t255\t255\t253\t252\t249\t251\t232\t200\n",
      "255\t255\t255\t255\t255\t255\t255\t255\t255\t255\t254\t254\t250\t253\t239\t202\n",
      "255\t255\t255\t255\t255\t255\t255\t255\t255\t255\t254\t254\t253\t254\t244\t205\n",
      "255\t255\t255\t255\t255\t255\t255\t255\t255\t255\t255\t254\t254\t255\t247\t210\n",
      "255\t255\t255\t255\t255\t255\t255\t255\t255\t255\t255\t254\t254\t255\t250\t212\n",
      "254\t254\t255\t255\t255\t255\t255\t255\t255\t255\t255\t254\t255\t255\t252\t210\n",
      "253\t254\t254\t254\t255\t254\t255\t254\t254\t254\t253\t252\t250\t253\t233\t199\n",
      "243\t246\t252\t252\t253\t252\t252\t246\t245\t244\t238\t241\t234\t227\t209\t181\n",
      "251\t253\t253\t252\t254\t254\t253\t251\t252\t252\t246\t245\t233\t242\t196\t180\n",
      "244\t243\t251\t240\t241\t242\t240\t236\t233\t229\t219\t199\t185\t178\t153\t163\n",
      "210\t208\t221\t189\t215\t195\t210\t187\t199\t189\t173\t182\t157\t177\t135\t142\n",
      "159\t172\t173\t145\t167\t149\t162\t152\t163\t148\t149\t159\t145\t157\t138\t115\n",
      "71\t78\t85\t87\t104\t92\t103\t111\t132\t102\t118\t113\t118\t143\t92\t85\n",
      "29\t37\t42\t73\t85\t86\t95\t110\t104\t84\t118\t96\t101\t122\t87\t56\n",
      "********************\n",
      "179\t239\t251\t253\t251\t248\t252\t252\t252\t252\t247\t233\t217\t189\t181\t154\n",
      "255\t255\t255\t255\t255\t255\t255\t255\t255\t255\t254\t248\t252\t255\t248\t176\n",
      "255\t255\t255\t255\t255\t255\t255\t254\t255\t255\t255\t252\t252\t254\t243\t207\n",
      "254\t255\t255\t255\t255\t255\t255\t255\t255\t255\t255\t254\t253\t253\t246\t184\n",
      "255\t255\t255\t255\t255\t255\t255\t255\t255\t255\t255\t254\t251\t252\t242\t167\n",
      "254\t255\t255\t255\t255\t255\t255\t255\t255\t254\t254\t251\t249\t246\t229\t187\n",
      "255\t255\t255\t255\t255\t255\t255\t255\t255\t255\t255\t254\t253\t254\t246\t200\n",
      "255\t255\t255\t255\t255\t255\t255\t254\t254\t254\t253\t251\t250\t250\t228\t152\n",
      "253\t253\t253\t253\t254\t254\t251\t250\t250\t250\t247\t239\t232\t232\t194\t143\n",
      "230\t238\t245\t248\t252\t252\t250\t247\t244\t246\t247\t239\t223\t212\t203\t176\n",
      "248\t251\t251\t251\t254\t254\t254\t253\t253\t253\t250\t245\t234\t233\t226\t173\n",
      "245\t248\t248\t247\t252\t253\t245\t242\t240\t239\t230\t238\t220\t208\t189\t160\n",
      "207\t212\t207\t210\t211\t207\t193\t189\t184\t182\t180\t182\t178\t173\t163\t154\n",
      "165\t167\t160\t176\t170\t169\t166\t166\t165\t163\t160\t156\t153\t151\t143\t125\n",
      "139\t119\t108\t137\t123\t121\t121\t120\t117\t112\t107\t104\t103\t103\t102\t88\n",
      "97\t101\t89\t111\t93\t88\t88\t90\t93\t93\t95\t97\t100\t102\t97\t58\n",
      "********************\n",
      "44\t20\t24\t31\t40\t46\t48\t47\t55\t62\t118\t144\t143\t135\t135\t123\n",
      "42\t46\t43\t52\t46\t56\t53\t52\t55\t53\t101\t119\t152\t145\t141\t105\n",
      "140\t89\t90\t92\t146\t147\t97\t96\t98\t149\t254\t248\t188\t192\t200\t253\n",
      "141\t226\t186\t228\t150\t150\t152\t247\t242\t157\t250\t252\t217\t239\t237\t242\n",
      "137\t220\t175\t211\t148\t151\t148\t134\t115\t156\t252\t235\t96\t93\t106\t111\n",
      "129\t126\t133\t133\t145\t147\t142\t142\t144\t143\t170\t69\t140\t120\t132\t221\n",
      "136\t222\t168\t227\t147\t147\t138\t227\t191\t120\t139\t135\t222\t222\t139\t154\n",
      "133\t223\t206\t205\t145\t135\t114\t186\t59\t129\t123\t135\t65\t131\t136\t145\n",
      "124\t129\t132\t132\t130\t113\t70\t61\t75\t65\t69\t70\t41\t76\t88\t136\n",
      "122\t113\t110\t116\t127\t122\t92\t116\t91\t107\t112\t66\t122\t128\t118\t140\n",
      "131\t208\t125\t159\t127\t125\t114\t122\t113\t116\t109\t121\t147\t153\t135\t139\n",
      "114\t202\t180\t187\t123\t107\t86\t174\t167\t72\t101\t120\t188\t195\t71\t84\n",
      "63\t71\t79\t73\t70\t62\t47\t53\t49\t68\t72\t53\t44\t42\t52\t83\n",
      "48\t45\t31\t10\t33\t29\t28\t19\t22\t14\t15\t23\t17\t14\t12\t11\n",
      "61\t23\t43\t24\t33\t124\t34\t23\t60\t8\t46\t80\t25\t25\t30\t15\n",
      "44\t49\t41\t21\t46\t47\t189\t29\t30\t7\t20\t30\t31\t24\t25\t30\n",
      "********************\n",
      "-119\t-220\t-232\t-226\t-218\t-216\t-215\t-217\t-205\t-199\t-157\t-131\t-109\t-73\t-72\t-45\n",
      "-220\t-215\t-223\t-212\t-220\t-210\t-214\t-216\t-211\t-212\t-181\t-163\t-137\t-149\t-141\t-91\n",
      "-178\t-183\t-181\t-182\t-167\t-170\t-185\t-178\t-175\t-162\t-96\t-80\t-119\t-120\t-106\t-23\n",
      "-179\t-31\t-54\t-33\t-168\t-167\t-135\t0\t-7\t-161\t-99\t-81\t-38\t-15\t-79\t-11\n",
      "-182\t-40\t-72\t-48\t-172\t-170\t-146\t-124\t-140\t-167\t-115\t-106\t-170\t-175\t-179\t-87\n",
      "-189\t-180\t-178\t-174\t-175\t-173\t-168\t-169\t-169\t-169\t-166\t-208\t-175\t-184\t-152\t-63\n",
      "-188\t-36\t-72\t-32\t-174\t-173\t-158\t-1\t-44\t-176\t-179\t-179\t-1\t-3\t-159\t-104\n",
      "-189\t-34\t-27\t-54\t-178\t-184\t-177\t-53\t-202\t-180\t-179\t-172\t-180\t-106\t-144\t-54\n",
      "-192\t-186\t-185\t-186\t-189\t-201\t-215\t-212\t-198\t-215\t-210\t-195\t-194\t-183\t-122\t-36\n",
      "-169\t-137\t-143\t-146\t-189\t-194\t-195\t-138\t-160\t-187\t-184\t-181\t-107\t-90\t-114\t-90\n",
      "-186\t-53\t-127\t-93\t-194\t-196\t-190\t-138\t-157\t-197\t-169\t-178\t-84\t-83\t-142\t-94\n",
      "-194\t-55\t-73\t-66\t-193\t-206\t-186\t-72\t-76\t-190\t-168\t-172\t-38\t-24\t-160\t-107\n",
      "-144\t-139\t-127\t-135\t-136\t-150\t-144\t-134\t-130\t-104\t-92\t-113\t-116\t-117\t-92\t-47\n",
      "-116\t-114\t-124\t-150\t-119\t-120\t-121\t-125\t-122\t-125\t-123\t-114\t-115\t-116\t-111\t-100\n",
      "-77\t-95\t-73\t-96\t-87\t24\t-82\t-82\t-44\t-87\t-49\t-44\t-68\t-64\t-68\t-64\n",
      "-48\t-66\t-55\t-75\t-41\t-36\t132\t-57\t-43\t-70\t-72\t-60\t-61\t-71\t-71\t-35\n"
     ]
    },
    {
     "data": {
      "image/png": "[encoded data removed]",
      "text/plain": [
       "<Figure size 432x288 with 1 Axes>"
      ]
     },
     "metadata": {
      "needs_background": "light"
     },
     "output_type": "display_data"
    }
   ],
   "source": [
    "#print(a[...,0])\n",
    "pic = \"pic_tmp/result_9_46.jpg\"\n",
    "m_pic = cv2.imread(pic)\n",
    "a = cv2.resize(m_pic,(16,48))\n",
    "for i in range(16):\n",
    "    print(\"\\t\".join([str(j) for j in a[i,:,2].tolist()]))\n",
    "print(\"*\" * 20)\n",
    "for i in range(16):\n",
    "    print(\"\\t\".join([str(j) for j in a[i+16,:,2].tolist()]))\n",
    "print(\"*\" * 20)\n",
    "for i in range(16):\n",
    "    print(\"\\t\".join([str(j) for j in a[i+32,:,2].tolist()]))\n",
    "print(\"*\" * 20)    \n",
    "for i in range(16):\n",
    "    x = a[i+32,:,0]\n",
    "    y = a[i+16,:,0]\n",
    "    w = [int(x[i]) -int(y[i]) for i in range(16)]\n",
    "    print(\"\\t\".join([str(j) for j in w]))\n",
    "    \n",
    "plt.figure()\n",
    "plt.imshow(a)\n",
    "plt.show()"
   ]
  },
  {
   "cell_type": "code",
   "execution_count": 23,
   "metadata": {},
   "outputs": [
    {
     "data": {
      "text/plain": [
       "[71,\n",
       " 83,\n",
       " 93,\n",
       " 107,\n",
       " 105,\n",
       " 103,\n",
       " 99,\n",
       " 104,\n",
       " 105,\n",
       " 98,\n",
       " 90,\n",
       " 83,\n",
       " 80,\n",
       " 84,\n",
       " 87,\n",
       " 92,\n",
       " 96,\n",
       " 89,\n",
       " 84,\n",
       " 73]"
      ]
     },
     "execution_count": 23,
     "metadata": {},
     "output_type": "execute_result"
    }
   ],
   "source": [
    "a[0,:,0].tolist()"
   ]
  },
  {
   "cell_type": "code",
   "execution_count": 47,
   "metadata": {},
   "outputs": [
    {
     "data": {
      "image/png": "[encoded data removed]",
      "text/plain": [
       "<Figure size 432x288 with 1 Axes>"
      ]
     },
     "metadata": {
      "needs_background": "light"
     },
     "output_type": "display_data"
    }
   ],
   "source": [
    "import matplotlib.pyplot as plt\n",
    "plt.figure()\n",
    "plt.imshow(a)\n",
    "plt.show()"
   ]
  },
  {
   "cell_type": "code",
   "execution_count": 42,
   "metadata": {},
   "outputs": [],
   "source": []
  },
  {
   "cell_type": "code",
   "execution_count": null,
   "metadata": {},
   "outputs": [],
   "source": []
  }
 ],
 "metadata": {
  "kernelspec": {
   "display_name": "Python 3",
   "language": "python",
   "name": "python3"
  },
  "language_info": {
   "codemirror_mode": {
    "name": "ipython",
    "version": 3
   },
   "file_extension": ".py",
   "mimetype": "text/x-python",
   "name": "python",
   "nbconvert_exporter": "python",
   "pygments_lexer": "ipython3",
   "version": "3.6.8"
  }
 },
 "nbformat": 4,
 "nbformat_minor": 2
}
