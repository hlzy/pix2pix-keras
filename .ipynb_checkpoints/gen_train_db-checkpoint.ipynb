{
 "cells": [
  {
   "cell_type": "code",
   "execution_count": 9,
   "metadata": {},
   "outputs": [],
   "source": [
    "import cv2\n",
    "import os\n",
    "import numpy as np\n",
    "import pickle as pickle\n",
    "from progressbar import *"
   ]
  },
  {
   "cell_type": "code",
   "execution_count": 10,
   "metadata": {},
   "outputs": [],
   "source": [
    "!mkdir -p pic_db"
   ]
  },
  {
   "cell_type": "code",
   "execution_count": 11,
   "metadata": {},
   "outputs": [],
   "source": [
    "def gen_db(mode,ban):\n",
    "    pic_root = \"./facades\"\n",
    "    mode_list = os.listdir(os.path.join(pic_root,mode))\n",
    "    ban_num = len(mode_list) // ban\n",
    "    for ban_i in range(ban):\n",
    "        #print(\"%s db gen start\" % mode)\n",
    "        pbar = ProgressBar().start()\n",
    "        cls_list = []\n",
    "        cur = 0\n",
    "        for each_pic in mode_list[ban_i * ban_num: (ban_i + 1) * ban_num]:\n",
    "            pbar.update(int((cur/(len(mode_list)-1))*100))\n",
    "            cur += 1\n",
    "            pic_path = os.path.join(pic_root,mode,each_pic)\n",
    "            my_pic = cv2.imread(pic_path)\n",
    "#            my_pic = my_pic.astype(np.float32)\n",
    "            width = my_pic.shape[1] // 2\n",
    "            my_pic_A = my_pic[:,:width,:]\n",
    "            my_pic_B = my_pic[:,width:,:]\n",
    "#             my_pic_A[...,0] = (my_pic_A[...,0] - 105.35932462) * 0.017\n",
    "#             my_pic_A[...,1] = (my_pic_A[...,1] - 112.60941372) * 0.017\n",
    "#             my_pic_A[...,2] = (my_pic_A[...,2] - 117.40256169) * 0.017\n",
    "            \n",
    "#             my_pic_B[...,0] = (my_pic_B[...,0] - 187.25014568) * 0.017\n",
    "#             my_pic_B[...,1] = (my_pic_B[...,1] - 77.66409287) * 0.017\n",
    "#             my_pic_B[...,2] = (my_pic_B[...,2] - 59.52274884) * 0.017\n",
    "            my_pic_A = (my_pic_A - 127.5)/127.5\n",
    "            my_pic_B = (my_pic_B - 127.5)/127.5\n",
    "            #my_pic_B = my_pic_B.transpose(2,0,1)\n",
    "            #my_pic_B = my_pic_B.astype(np.float16)\n",
    "            cls_list.append([my_pic_A.tolist(),my_pic_B.tolist()])\n",
    "            #print(my_pic_A.shape)\n",
    "#            break\n",
    "        fid = open(\"pic_db/%s_%d_pic.imdb\" % (mode,ban_i) ,\"wb\")\n",
    "        pbar.finish()\n",
    "        pickle.dump(cls_list, fid)\n",
    "        fid.close()\n",
    "#        return cls_list"
   ]
  },
  {
   "cell_type": "code",
   "execution_count": 12,
   "metadata": {},
   "outputs": [
    {
     "name": "stderr",
     "output_type": "stream",
     "text": [
      "100% |########################################################################|\n",
      "100% |########################################################################|\n",
      "100% |########################################################################|\n"
     ]
    }
   ],
   "source": [
    "gen_db(\"train\",4)"
   ]
  },
  {
   "cell_type": "code",
   "execution_count": 4,
   "metadata": {},
   "outputs": [
    {
     "name": "stderr",
     "output_type": "stream",
     "text": [
      "100% |########################################################################|\n",
      "100% |########################################################################|\n",
      "100% |########################################################################|\n"
     ]
    }
   ],
   "source": [
    "gen_db(\"test\",3)"
   ]
  },
  {
   "cell_type": "code",
   "execution_count": 1,
   "metadata": {},
   "outputs": [],
   "source": [
    "import numpy as np"
   ]
  },
  {
   "cell_type": "code",
   "execution_count": 22,
   "metadata": {},
   "outputs": [
    {
     "name": "stderr",
     "output_type": "stream",
     "text": [
      "100% |########################################################################|\r"
     ]
    }
   ],
   "source": [
    "mode = \"test\"\n",
    "ban=1\n",
    "pic_root = \"./facades\"\n",
    "mode_list = os.listdir(os.path.join(pic_root,mode))\n",
    "ban_num = len(mode_list) // ban\n",
    "result_a=np.zeros([256,256,3])\n",
    "result_b=np.zeros([256,256,3])\n",
    "index = 0\n",
    "for ban_i in range(ban):\n",
    "    #print(\"%s db gen start\" % mode)\n",
    "    pbar = ProgressBar().start()\n",
    "    cls_list = []\n",
    "    cur = 0\n",
    "    for each_pic in mode_list[ban_i * ban_num: (ban_i + 1) * ban_num]:\n",
    "        index += 1\n",
    "        pbar.update(int((cur/(len(mode_list)-1))*100))\n",
    "        cur += 1\n",
    "        pic_path = os.path.join(pic_root,mode,each_pic)\n",
    "        my_pic = cv2.imread(pic_path)\n",
    "        my_pic = my_pic.astype(np.float32)\n",
    "        #print(my_pic_B)\n",
    "        width = my_pic.shape[1] // 2\n",
    "        \n",
    "        my_pic_A = my_pic[:,:width,:]\n",
    "        my_pic_B = my_pic[:,width:,:]\n",
    "        \n",
    "        result_a = my_pic_A + result_a\n",
    "        result_b = my_pic_B + result_b"
   ]
  },
  {
   "cell_type": "code",
   "execution_count": 24,
   "metadata": {},
   "outputs": [
    {
     "data": {
      "text/plain": [
       "106"
      ]
     },
     "execution_count": 24,
     "metadata": {},
     "output_type": "execute_result"
    }
   ],
   "source": [
    "index"
   ]
  },
  {
   "cell_type": "code",
   "execution_count": 25,
   "metadata": {},
   "outputs": [],
   "source": [
    "a = result_a / 106\n",
    "b = result_b / 106"
   ]
  },
  {
   "cell_type": "code",
   "execution_count": 27,
   "metadata": {},
   "outputs": [
    {
     "data": {
      "text/plain": [
       "array([105.35932462, 112.60941372, 117.40256169])"
      ]
     },
     "execution_count": 27,
     "metadata": {},
     "output_type": "execute_result"
    }
   ],
   "source": [
    "a.mean(0).mean(0)"
   ]
  },
  {
   "cell_type": "code",
   "execution_count": 28,
   "metadata": {},
   "outputs": [
    {
     "data": {
      "text/plain": [
       "array([187.25014568,  77.66409287,  59.52274884])"
      ]
     },
     "execution_count": 28,
     "metadata": {},
     "output_type": "execute_result"
    }
   ],
   "source": [
    "b.mean(0).mean(0)"
   ]
  },
  {
   "cell_type": "code",
   "execution_count": 90,
   "metadata": {},
   "outputs": [],
   "source": [
    "pic_path = os.path.join(\"./facades/train/1.jpg\")\n",
    "my_pic = cv2.imread(pic_path)"
   ]
  },
  {
   "cell_type": "code",
   "execution_count": 91,
   "metadata": {},
   "outputs": [],
   "source": [
    "my_pic = my_pic.astype(np.float32)"
   ]
  },
  {
   "cell_type": "code",
   "execution_count": 92,
   "metadata": {},
   "outputs": [],
   "source": [
    "my_pic_A = my_pic[:,:width,:]\n",
    "my_pic_B = my_pic[:,width:,:]"
   ]
  },
  {
   "cell_type": "code",
   "execution_count": 94,
   "metadata": {},
   "outputs": [],
   "source": [
    "my_pic_A[...,0] = (my_pic_A[...,0] - 105.35932462) * 0.017\n",
    "my_pic_A[...,1] = (my_pic_A[...,1] - 112.60941372) * 0.017\n",
    "my_pic_A[...,2] = (my_pic_A[...,2] - 117.40256169) * 0.017\n",
    "\n",
    "my_pic_B[...,0] = (my_pic_B[...,0] - 187.25014568) * 0.017\n",
    "my_pic_B[...,1] = (my_pic_B[...,1] - 77.66409287) * 0.017\n",
    "my_pic_B[...,2] = (my_pic_B[...,2] - 59.52274884) * 0.017"
   ]
  },
  {
   "cell_type": "code",
   "execution_count": 95,
   "metadata": {},
   "outputs": [],
   "source": [
    "my_pic_A[...,0] = (my_pic_A[...,0] / 0.017 + 105.35932462)\n",
    "my_pic_A[...,1] = (my_pic_A[...,1] / 0.017 + 112.60941372)\n",
    "my_pic_A[...,2] = (my_pic_A[...,2] / 0.017 + 117.40256169)\n"
   ]
  },
  {
   "cell_type": "code",
   "execution_count": 96,
   "metadata": {},
   "outputs": [
    {
     "data": {
      "text/plain": [
       "True"
      ]
     },
     "execution_count": 96,
     "metadata": {},
     "output_type": "execute_result"
    }
   ],
   "source": [
    "cv2.imwrite(\"./result_tmp.jpg\",my_pic_A)"
   ]
  },
  {
   "cell_type": "code",
   "execution_count": 93,
   "metadata": {},
   "outputs": [
    {
     "data": {
      "text/plain": [
       "array([[[222., 207., 204.],\n",
       "        [225., 210., 207.],\n",
       "        [226., 213., 211.],\n",
       "        ...,\n",
       "        [  0.,   0.,   0.],\n",
       "        [  0.,   0.,   0.],\n",
       "        [ 50.,   0.,   0.]],\n",
       "\n",
       "       [[223., 208., 205.],\n",
       "        [222., 207., 204.],\n",
       "        [222., 210., 206.],\n",
       "        ...,\n",
       "        [  0.,   0.,   0.],\n",
       "        [  0.,   0.,   0.],\n",
       "        [ 50.,   0.,   0.]],\n",
       "\n",
       "       [[222., 208., 202.],\n",
       "        [220., 206., 200.],\n",
       "        [222., 210., 204.],\n",
       "        ...,\n",
       "        [  0.,   0.,   0.],\n",
       "        [  0.,   0.,   0.],\n",
       "        [ 50.,   0.,   0.]],\n",
       "\n",
       "       ...,\n",
       "\n",
       "       [[  0.,   0.,   0.],\n",
       "        [  0.,   0.,   0.],\n",
       "        [  0.,   0.,   0.],\n",
       "        ...,\n",
       "        [  0.,   0.,   0.],\n",
       "        [  1.,   1.,   1.],\n",
       "        [ 52.,   0.,   0.]],\n",
       "\n",
       "       [[  0.,   0.,   0.],\n",
       "        [  0.,   0.,   0.],\n",
       "        [  2.,   0.,   0.],\n",
       "        ...,\n",
       "        [  0.,   0.,   0.],\n",
       "        [  0.,   1.,   1.],\n",
       "        [ 48.,   0.,   0.]],\n",
       "\n",
       "       [[  0.,   0.,   0.],\n",
       "        [  0.,   0.,   0.],\n",
       "        [  2.,   0.,   0.],\n",
       "        ...,\n",
       "        [  0.,   0.,   0.],\n",
       "        [  0.,   2.,   2.],\n",
       "        [ 46.,   0.,   0.]]], dtype=float32)"
      ]
     },
     "execution_count": 93,
     "metadata": {},
     "output_type": "execute_result"
    }
   ],
   "source": [
    "my_pic_A"
   ]
  },
  {
   "cell_type": "code",
   "execution_count": 86,
   "metadata": {},
   "outputs": [
    {
     "data": {
      "text/plain": [
       "array([[[222, 207, 204],\n",
       "        [225, 210, 207],\n",
       "        [226, 213, 211],\n",
       "        ...,\n",
       "        [  0,   0,   0],\n",
       "        [  0,   0,   0],\n",
       "        [ 50,   0,   0]],\n",
       "\n",
       "       [[223, 208, 205],\n",
       "        [222, 207, 204],\n",
       "        [222, 210, 206],\n",
       "        ...,\n",
       "        [  0,   0,   0],\n",
       "        [  0,   0,   0],\n",
       "        [ 50,   0,   0]],\n",
       "\n",
       "       [[222, 208, 202],\n",
       "        [220, 206, 200],\n",
       "        [222, 210, 204],\n",
       "        ...,\n",
       "        [  0,   0,   0],\n",
       "        [  0,   0,   0],\n",
       "        [ 50,   0,   0]],\n",
       "\n",
       "       ...,\n",
       "\n",
       "       [[  0,   0,   0],\n",
       "        [  0,   0,   0],\n",
       "        [  0,   0,   0],\n",
       "        ...,\n",
       "        [  0,   0,   0],\n",
       "        [  1,   1,   1],\n",
       "        [ 52,   0,   0]],\n",
       "\n",
       "       [[  0,   0,   0],\n",
       "        [  0,   0,   0],\n",
       "        [  2,   0,   0],\n",
       "        ...,\n",
       "        [  0,   0,   0],\n",
       "        [  0,   1,   1],\n",
       "        [ 48,   0,   0]],\n",
       "\n",
       "       [[  0,   0,   0],\n",
       "        [  0,   0,   0],\n",
       "        [  2,   0,   0],\n",
       "        ...,\n",
       "        [  0,   0,   0],\n",
       "        [  0,   2,   2],\n",
       "        [ 46,   0,   0]]], dtype=uint8)"
      ]
     },
     "execution_count": 86,
     "metadata": {},
     "output_type": "execute_result"
    }
   ],
   "source": [
    "my_pic_A"
   ]
  },
  {
   "cell_type": "code",
   "execution_count": null,
   "metadata": {},
   "outputs": [],
   "source": []
  }
 ],
 "metadata": {
  "kernelspec": {
   "display_name": "Python 3",
   "language": "python",
   "name": "python3"
  },
  "language_info": {
   "codemirror_mode": {
    "name": "ipython",
    "version": 3
   },
   "file_extension": ".py",
   "mimetype": "text/x-python",
   "name": "python",
   "nbconvert_exporter": "python",
   "pygments_lexer": "ipython3",
   "version": "3.6.8"
  }
 },
 "nbformat": 4,
 "nbformat_minor": 2
}
