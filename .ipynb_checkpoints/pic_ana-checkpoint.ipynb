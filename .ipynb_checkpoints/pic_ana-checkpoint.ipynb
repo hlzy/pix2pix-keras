{
 "cells": [
  {
   "cell_type": "code",
   "execution_count": 1,
   "metadata": {},
   "outputs": [],
   "source": [
    "import cv2"
   ]
  },
  {
   "cell_type": "code",
   "execution_count": 37,
   "metadata": {},
   "outputs": [],
   "source": [
    "pic = \"pic_tmp/result_1_99.jpg\"\n",
    "m_pic = cv2.imread(pic)"
   ]
  },
  {
   "cell_type": "code",
   "execution_count": 38,
   "metadata": {},
   "outputs": [],
   "source": [
    "a = cv2.resize(m_pic,(16,48))"
   ]
  },
  {
   "cell_type": "code",
   "execution_count": 39,
   "metadata": {},
   "outputs": [
    {
     "data": {
      "text/plain": [
       "(48, 16, 3)"
      ]
     },
     "execution_count": 39,
     "metadata": {},
     "output_type": "execute_result"
    }
   ],
   "source": [
    "a.shape"
   ]
  },
  {
   "cell_type": "code",
   "execution_count": 64,
   "metadata": {},
   "outputs": [
    {
     "name": "stdout",
     "output_type": "stream",
     "text": [
      "150\t179\t241\t252\t247\t241\t249\t254\t254\t255\t255\t254\t250\t234\t245\t240\n",
      "255\t255\t255\t255\t255\t255\t255\t255\t255\t255\t255\t251\t254\t255\t253\t231\n",
      "255\t255\t255\t251\t252\t254\t249\t248\t247\t248\t243\t238\t243\t254\t235\t212\n",
      "255\t255\t255\t254\t254\t254\t253\t253\t252\t253\t251\t250\t243\t254\t246\t213\n",
      "255\t255\t255\t254\t255\t255\t255\t255\t255\t255\t252\t252\t251\t255\t248\t215\n",
      "255\t255\t255\t255\t255\t255\t255\t255\t255\t255\t253\t251\t253\t255\t243\t212\n",
      "255\t255\t255\t255\t255\t255\t255\t255\t255\t255\t255\t254\t255\t255\t252\t219\n",
      "255\t255\t255\t255\t255\t255\t255\t255\t255\t255\t255\t255\t255\t255\t254\t224\n",
      "254\t254\t254\t253\t255\t255\t255\t254\t255\t255\t254\t251\t253\t255\t246\t213\n",
      "214\t219\t247\t245\t247\t246\t247\t231\t236\t235\t233\t237\t222\t216\t204\t193\n",
      "254\t254\t254\t252\t254\t254\t254\t250\t252\t253\t249\t242\t233\t240\t202\t189\n",
      "247\t248\t252\t232\t230\t235\t233\t225\t220\t218\t201\t172\t143\t134\t114\t166\n",
      "225\t205\t212\t152\t166\t156\t166\t147\t146\t141\t135\t137\t125\t130\t123\t141\n",
      "127\t131\t147\t122\t146\t126\t145\t127\t141\t130\t132\t139\t121\t137\t119\t124\n",
      "72\t83\t78\t68\t74\t73\t73\t76\t91\t61\t77\t83\t82\t86\t62\t93\n",
      "36\t45\t41\t51\t49\t53\t51\t54\t50\t43\t63\t53\t64\t64\t58\t69\n",
      "********************\n",
      "154\t194\t243\t249\t220\t193\t239\t254\t255\t255\t255\t255\t255\t253\t253\t242\n",
      "255\t255\t255\t255\t255\t255\t255\t255\t255\t255\t255\t251\t251\t252\t237\t171\n",
      "255\t255\t255\t255\t255\t255\t255\t255\t255\t254\t252\t244\t239\t246\t207\t148\n",
      "255\t255\t255\t255\t255\t255\t255\t255\t255\t255\t255\t254\t254\t254\t246\t202\n",
      "255\t255\t255\t255\t255\t255\t255\t255\t255\t255\t254\t253\t253\t249\t213\t195\n",
      "255\t255\t255\t255\t255\t255\t255\t255\t255\t255\t255\t255\t255\t255\t249\t199\n",
      "255\t255\t255\t255\t255\t255\t255\t255\t255\t255\t253\t253\t254\t250\t220\t191\n",
      "255\t255\t255\t255\t255\t255\t254\t255\t255\t254\t252\t250\t252\t250\t225\t176\n",
      "255\t254\t254\t253\t255\t254\t254\t252\t251\t250\t245\t247\t235\t242\t203\t129\n",
      "174\t200\t214\t222\t236\t228\t234\t237\t235\t227\t217\t225\t202\t205\t145\t118\n",
      "248\t252\t253\t254\t255\t255\t254\t255\t254\t252\t250\t249\t249\t242\t203\t162\n",
      "226\t245\t246\t246\t250\t247\t248\t248\t246\t243\t233\t233\t214\t180\t122\t115\n",
      "146\t156\t163\t159\t168\t168\t166\t157\t150\t139\t125\t126\t112\t107\t106\t104\n",
      "135\t120\t128\t148\t142\t123\t126\t126\t126\t127\t123\t113\t111\t112\t111\t109\n",
      "82\t53\t54\t83\t91\t52\t56\t56\t56\t67\t64\t56\t55\t60\t65\t89\n",
      "46\t47\t43\t47\t54\t34\t37\t37\t38\t44\t45\t41\t45\t49\t44\t57\n",
      "********************\n",
      "254\t101\t209\t249\t100\t76\t96\t248\t171\t74\t96\t251\t107\t191\t198\t253\n",
      "72\t76\t78\t83\t95\t92\t92\t94\t100\t108\t117\t124\t69\t60\t71\t84\n",
      "77\t77\t41\t87\t88\t89\t22\t85\t85\t27\t85\t86\t85\t14\t81\t84\n",
      "146\t121\t20\t155\t154\t149\t41\t158\t162\t28\t142\t162\t160\t14\t125\t158\n",
      "54\t72\t100\t140\t151\t101\t85\t142\t140\t90\t67\t158\t128\t104\t92\t71\n",
      "140\t59\t27\t149\t151\t142\t23\t154\t152\t37\t137\t153\t152\t16\t118\t153\n",
      "122\t77\t162\t126\t134\t108\t155\t87\t82\t168\t99\t138\t124\t163\t89\t132\n",
      "125\t45\t46\t133\t140\t108\t38\t86\t137\t39\t102\t145\t135\t59\t56\t136\n",
      "79\t32\t125\t115\t138\t94\t155\t75\t95\t131\t86\t145\t143\t141\t61\t87\n",
      "24\t26\t25\t16\t49\t27\t24\t17\t67\t22\t26\t79\t17\t22\t19\t21\n",
      "110\t23\t153\t118\t125\t105\t172\t32\t9\t170\t98\t103\t120\t78\t43\t111\n",
      "81\t43\t98\t55\t98\t96\t167\t67\t77\t163\t102\t94\t66\t99\t70\t74\n",
      "26\t26\t26\t78\t77\t26\t20\t25\t29\t33\t30\t52\t43\t24\t25\t35\n",
      "88\t38\t16\t99\t106\t66\t31\t36\t30\t33\t19\t30\t25\t27\t37\t23\n",
      "36\t44\t8\t116\t104\t14\t18\t12\t63\t65\t72\t74\t3\t89\t62\t67\n",
      "27\t157\t20\t75\t45\t2\t1\t16\t51\t66\t22\t49\t6\t28\t20\t101\n",
      "********************\n",
      "100\t-93\t-34\t0\t-120\t-117\t-143\t-6\t-84\t-181\t-159\t-4\t-148\t-62\t-55\t11\n",
      "-183\t-179\t-177\t-172\t-160\t-163\t-163\t-161\t-155\t-147\t-138\t-127\t-182\t-192\t-166\t-87\n",
      "-178\t-178\t-214\t-168\t-167\t-166\t-233\t-170\t-170\t-227\t-167\t-158\t-154\t-232\t-126\t-64\n",
      "-109\t-134\t-235\t-100\t-101\t-106\t-214\t-97\t-93\t-227\t-113\t-92\t-94\t-240\t-121\t-44\n",
      "-201\t-183\t-155\t-115\t-104\t-154\t-170\t-113\t-115\t-165\t-187\t-95\t-125\t-145\t-121\t-124\n",
      "-115\t-196\t-228\t-106\t-104\t-113\t-232\t-101\t-103\t-218\t-118\t-102\t-103\t-239\t-131\t-46\n",
      "-133\t-178\t-93\t-129\t-121\t-147\t-100\t-168\t-173\t-87\t-154\t-115\t-130\t-87\t-131\t-59\n",
      "-130\t-210\t-209\t-122\t-115\t-147\t-216\t-169\t-118\t-215\t-150\t-105\t-117\t-191\t-169\t-40\n",
      "-176\t-222\t-129\t-138\t-117\t-160\t-99\t-177\t-156\t-119\t-159\t-102\t-92\t-101\t-142\t-42\n",
      "-150\t-174\t-189\t-206\t-187\t-201\t-210\t-220\t-168\t-205\t-191\t-146\t-185\t-183\t-126\t-97\n",
      "-138\t-229\t-100\t-136\t-130\t-150\t-82\t-223\t-245\t-82\t-152\t-146\t-129\t-164\t-160\t-51\n",
      "-145\t-202\t-148\t-191\t-152\t-151\t-81\t-181\t-169\t-80\t-131\t-139\t-148\t-81\t-52\t-41\n",
      "-120\t-130\t-137\t-81\t-91\t-142\t-146\t-132\t-121\t-106\t-95\t-74\t-69\t-83\t-81\t-69\n",
      "-47\t-82\t-112\t-49\t-36\t-57\t-95\t-90\t-96\t-94\t-104\t-83\t-86\t-85\t-74\t-86\n",
      "-46\t-9\t-46\t33\t13\t-38\t-38\t-44\t7\t-2\t8\t18\t-52\t29\t-3\t-22\n",
      "-19\t110\t-23\t28\t-9\t-32\t-36\t-21\t13\t22\t-23\t8\t-39\t-21\t-24\t44\n"
     ]
    },
    {
     "data": {
      "image/png": "[encoded data removed]",
      "text/plain": [
       "<Figure size 432x288 with 1 Axes>"
      ]
     },
     "metadata": {
      "needs_background": "light"
     },
     "output_type": "display_data"
    }
   ],
   "source": [
    "#print(a[...,0])\n",
    "pic = \"pic_tmp/result_9_42.jpg\"\n",
    "m_pic = cv2.imread(pic)\n",
    "a = cv2.resize(m_pic,(16,48))\n",
    "for i in range(16):\n",
    "    print(\"\\t\".join([str(j) for j in a[i,:,0].tolist()]))\n",
    "print(\"*\" * 20)\n",
    "for i in range(16):\n",
    "    print(\"\\t\".join([str(j) for j in a[i+16,:,0].tolist()]))\n",
    "print(\"*\" * 20)\n",
    "for i in range(16):\n",
    "    print(\"\\t\".join([str(j) for j in a[i+32,:,0].tolist()]))\n",
    "print(\"*\" * 20)    \n",
    "for i in range(16):\n",
    "    x = a[i+32,:,0]\n",
    "    y = a[i+16,:,0]\n",
    "    w = [int(x[i]) -int(y[i]) for i in range(16)]\n",
    "    print(\"\\t\".join([str(j) for j in w]))\n",
    "    \n",
    "plt.figure()\n",
    "plt.imshow(a)\n",
    "plt.show()"
   ]
  },
  {
   "cell_type": "code",
   "execution_count": 23,
   "metadata": {},
   "outputs": [
    {
     "data": {
      "text/plain": [
       "[71,\n",
       " 83,\n",
       " 93,\n",
       " 107,\n",
       " 105,\n",
       " 103,\n",
       " 99,\n",
       " 104,\n",
       " 105,\n",
       " 98,\n",
       " 90,\n",
       " 83,\n",
       " 80,\n",
       " 84,\n",
       " 87,\n",
       " 92,\n",
       " 96,\n",
       " 89,\n",
       " 84,\n",
       " 73]"
      ]
     },
     "execution_count": 23,
     "metadata": {},
     "output_type": "execute_result"
    }
   ],
   "source": [
    "a[0,:,0].tolist()"
   ]
  },
  {
   "cell_type": "code",
   "execution_count": 47,
   "metadata": {},
   "outputs": [
    {
     "data": {
      "image/png": "[encoded data removed]",
      "text/plain": [
       "<Figure size 432x288 with 1 Axes>"
      ]
     },
     "metadata": {
      "needs_background": "light"
     },
     "output_type": "display_data"
    }
   ],
   "source": [
    "import matplotlib.pyplot as plt\n",
    "plt.figure()\n",
    "plt.imshow(a)\n",
    "plt.show()"
   ]
  },
  {
   "cell_type": "code",
   "execution_count": 42,
   "metadata": {},
   "outputs": [],
   "source": []
  },
  {
   "cell_type": "code",
   "execution_count": null,
   "metadata": {},
   "outputs": [],
   "source": []
  }
 ],
 "metadata": {
  "kernelspec": {
   "display_name": "Python 3",
   "language": "python",
   "name": "python3"
  },
  "language_info": {
   "codemirror_mode": {
    "name": "ipython",
    "version": 3
   },
   "file_extension": ".py",
   "mimetype": "text/x-python",
   "name": "python",
   "nbconvert_exporter": "python",
   "pygments_lexer": "ipython3",
   "version": "3.6.8"
  }
 },
 "nbformat": 4,
 "nbformat_minor": 2
}
