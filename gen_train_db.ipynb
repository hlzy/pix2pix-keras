{
 "cells": [
  {
   "cell_type": "code",
   "execution_count": 1,
   "metadata": {},
   "outputs": [],
   "source": [
    "import cv2\n",
    "import os\n",
    "import numpy as np\n",
    "import pickle as pickle\n",
    "from progressbar import *"
   ]
  },
  {
   "cell_type": "code",
   "execution_count": 2,
   "metadata": {},
   "outputs": [],
   "source": [
    "!mkdir -p pic_db"
   ]
  },
  {
   "cell_type": "code",
   "execution_count": 3,
   "metadata": {},
   "outputs": [],
   "source": [
    "def gen_db(mode,ban):\n",
    "    pic_root = \"./facades\"\n",
    "    mode_list = os.listdir(os.path.join(pic_root,mode))\n",
    "    ban_num = len(mode_list) // ban\n",
    "    for ban_i in range(ban):\n",
    "        #print(\"%s db gen start\" % mode)\n",
    "        pbar = ProgressBar().start()\n",
    "        cls_list = []\n",
    "        cur = 0\n",
    "        for each_pic in mode_list[ban_i * ban_num: (ban_i + 1) * ban_num]:\n",
    "            pbar.update(int((cur/(len(mode_list)-1))*100))\n",
    "            cur += 1\n",
    "            pic_path = os.path.join(pic_root,mode,each_pic)\n",
    "            my_pic = cv2.imread(pic_path)\n",
    "            width = my_pic.shape[1] // 2\n",
    "            my_pic_A = my_pic[:,:width,:]\n",
    "            my_pic_B = my_pic[:,width:,:]\n",
    "        #     cv2.imwrite(\"result_A.jpg\",my_pic_A)\n",
    "        #     cv2.imwrite(\"result_B.jpg\",my_pic_B)\n",
    "            my_pic_A = (my_pic_A - 127.5)/127.5\n",
    "            #my_pic_A = my_pic_A.transpose(2,0,1)\n",
    "            #my_pic_A = my_pic_A.astype(np.float16)\n",
    "            my_pic_B = (my_pic_B - 127.5)/127.5\n",
    "            #my_pic_B = my_pic_B.transpose(2,0,1)\n",
    "            #my_pic_B = my_pic_B.astype(np.float16)\n",
    "            cls_list.append([my_pic_A.tolist(),my_pic_B.tolist()])\n",
    "            #print(my_pic_A.shape)\n",
    "#            break\n",
    "        fid = open(\"pic_db/%s_%d_pic.imdb\" % (mode,ban_i) ,\"wb\")\n",
    "        pbar.finish()\n",
    "        pickle.dump(cls_list, fid)\n",
    "        fid.close()\n",
    "#        return cls_list"
   ]
  },
  {
   "cell_type": "code",
   "execution_count": null,
   "metadata": {},
   "outputs": [
    {
     "name": "stderr",
     "output_type": "stream",
     "text": [
      "100% |########################################################################|\n",
      " 17% |############                                                            |\r"
     ]
    }
   ],
   "source": [
    "gen_db(\"train\",3)"
   ]
  },
  {
   "cell_type": "code",
   "execution_count": null,
   "metadata": {},
   "outputs": [],
   "source": [
    "gen_db(\"test\",3)"
   ]
  }
 ],
 "metadata": {
  "kernelspec": {
   "display_name": "Python 3",
   "language": "python",
   "name": "python3"
  },
  "language_info": {
   "codemirror_mode": {
    "name": "ipython",
    "version": 3
   },
   "file_extension": ".py",
   "mimetype": "text/x-python",
   "name": "python",
   "nbconvert_exporter": "python",
   "pygments_lexer": "ipython3",
   "version": "3.6.8"
  }
 },
 "nbformat": 4,
 "nbformat_minor": 2
}
